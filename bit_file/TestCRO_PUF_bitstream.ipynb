{
 "cells": [
  {
   "cell_type": "code",
   "execution_count": 53,
   "metadata": {},
   "outputs": [],
   "source": [
    "from pynq import Overlay\n",
    "import matplotlib.pyplot as plt\n",
    "import time\n",
    "import csv\n",
    "# o1 = Overlay('/home/xilinx/jupyter_notebooks/S3/cfg/Freq_clock_test.bit')\n",
    "# o1 = Overlay('/home/xilinx/jupyter_notebooks/S3/cfg/cro_puf_ch2_update.bit')\n",
    "o1 = Overlay('/home/xilinx/jupyter_notebooks/S3/cfg/Test_1.bit')\n",
    "# o1 = Overlay('/home/xilinx/jupyter_notebooks/S3/cfg/cro_puf_no_fp.bit')"
   ]
  },
  {
   "cell_type": "code",
   "execution_count": 54,
   "metadata": {},
   "outputs": [],
   "source": [
    "ip = o1.PUF_HLS_top_0  #0xd0"
   ]
  },
  {
   "cell_type": "markdown",
   "metadata": {},
   "source": [
    "# READ The Frequency"
   ]
  },
  {
   "cell_type": "code",
   "execution_count": 55,
   "metadata": {},
   "outputs": [],
   "source": [
    "ip.write(0xb8,5)"
   ]
  },
  {
   "cell_type": "code",
   "execution_count": 56,
   "metadata": {},
   "outputs": [
    {
     "name": "stdout",
     "output_type": "stream",
     "text": [
      "freq= 5\n"
     ]
    }
   ],
   "source": [
    "a=ip.read(0x80)\n",
    "print(f\"freq= {a}\")"
   ]
  },
  {
   "cell_type": "code",
   "execution_count": 57,
   "metadata": {},
   "outputs": [
    {
     "name": "stdout",
     "output_type": "stream",
     "text": [
      "Itteration = 0\n",
      "Challenge = 0\n",
      "Ch_0 = 95.605\n",
      "Ch_1 = 88.184\n",
      "Ch_2 = 106.226\n",
      "Ch_3 = 81.836\n",
      "Ch_4 = 106.396\n",
      "Ch_5 = 79.443\n",
      "Ch_6 = 106.396\n",
      "Ch_7 = 79.712\n",
      "Ch_8 = 103.76\n",
      "Ch_9 = 78.882\n",
      "Ch_10 = 103.149\n",
      "Ch_11 = 76.831\n",
      "Ch_12 = 103.906\n",
      "Ch_13 = 76.782\n",
      "Ch_14 = 104.248\n",
      "Ch_15 = 76.66\n",
      "Challenge = 1\n",
      "Ch_0 = 95.581\n",
      "Ch_1 = 88.11\n",
      "Ch_2 = 106.47\n",
      "Ch_3 = 81.909\n",
      "Ch_4 = 106.372\n",
      "Ch_5 = 79.272\n",
      "Ch_6 = 106.396\n",
      "Ch_7 = 79.565\n",
      "Ch_8 = 103.833\n",
      "Ch_9 = 78.711\n",
      "Ch_10 = 103.149\n",
      "Ch_11 = 76.636\n",
      "Ch_12 = 103.833\n",
      "Ch_13 = 76.782\n",
      "Ch_14 = 103.735\n",
      "Ch_15 = 76.611\n",
      "Frequency data saved to 'frequency_data.csv'.\n"
     ]
    }
   ],
   "source": [
    "import time\n",
    "import csv\n",
    "\n",
    "# Open a CSV file to save the frequency data\n",
    "with open('frequency_data_Test_ch2_update.csv', 'w', newline='') as file:\n",
    "    writer = csv.writer(file)\n",
    "    # Write header row\n",
    "    writer.writerow(['Challenge', 'Ch_0', 'Ch_1', 'Ch_2', 'Ch_3', 'Ch_4', 'Ch_5', 'Ch_6', 'Ch_7',\n",
    "                    'Ch_8', 'Ch_9', 'Ch_10', 'Ch_11', 'Ch_12', 'Ch_13', 'Ch_14', 'Ch_15'])\n",
    "\n",
    "    for it in range(1):\n",
    "        print(f\"Itteration = {it}\")\n",
    "        time.sleep(0.1)\n",
    "        for ch in range(2): #Challenge\n",
    "            ip.write(0xb8, ch)\n",
    "            challenge = ip.read(0x80)\n",
    "            print(f\"Challenge = {challenge}\")\n",
    "            ip.write(0xc8, 1)  # Turn on/off the CRO\n",
    "            time.sleep(0.25)\n",
    "\n",
    "            # Initialize a list to hold frequencies for each channel during this iteration\n",
    "            frequencies = []\n",
    "            frequencies1 = []\n",
    "            frequencies2 = []\n",
    "            frequencies3 = []\n",
    "            \n",
    "            for i in range(16): #Channel Frequency\n",
    "#                 time.sleep(0.5)\n",
    "                ip.write(0xc0, i)\n",
    "                time.sleep(0.25)\n",
    "                a = ip.read(0x10)\n",
    "                freq0 = (a / 4096) * 100\n",
    "                print(f\"Ch_{i} = {round(freq0,3)}\")\n",
    "\n",
    "                # Store frequency in the list\n",
    "                frequencies.append(round(freq0, 3))  # Rounding to 3 decimal places for cleaner output\n",
    "                frequencies1.append(round(freq1, 3))  # Rounding to 3 decimal places for cleaner output\n",
    "                frequencies2.append(round(freq2, 3))  # Rounding to 3 decimal places for cleaner output\n",
    "                frequencies3.append(round(freq3, 3))  # Rounding to 3 decimal places for cleaner output\n",
    "            \n",
    "            ip.write(0xc8, 0)  # Turn on/off the CRO again\n",
    "\n",
    "            # After collecting all frequencies for this iteration, write to CSV\n",
    "            writer.writerow([ch] + frequencies + frequencies1 + frequencies2 + frequencies3)\n",
    "\n",
    "print(\"Frequency data saved to 'frequency_data.csv'.\")\n"
   ]
  },
  {
   "cell_type": "code",
   "execution_count": null,
   "metadata": {},
   "outputs": [],
   "source": []
  },
  {
   "cell_type": "code",
   "execution_count": null,
   "metadata": {},
   "outputs": [],
   "source": []
  }
 ],
 "metadata": {
  "kernelspec": {
   "display_name": "Python 3",
   "language": "python",
   "name": "python3"
  },
  "language_info": {
   "codemirror_mode": {
    "name": "ipython",
    "version": 3
   },
   "file_extension": ".py",
   "mimetype": "text/x-python",
   "name": "python",
   "nbconvert_exporter": "python",
   "pygments_lexer": "ipython3",
   "version": "3.6.5"
  }
 },
 "nbformat": 4,
 "nbformat_minor": 2
}
